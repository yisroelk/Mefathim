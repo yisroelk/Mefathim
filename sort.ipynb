{
 "cells": [
  {
   "cell_type": "code",
   "execution_count": 14,
   "metadata": {},
   "outputs": [
    {
     "name": "stdout",
     "output_type": "stream",
     "text": [
      "left 0\n",
      "right 3\n",
      "pi_left 0\n",
      "pi_right 3\n",
      "left 0\n",
      "right -1\n",
      "left 1\n",
      "right 3\n",
      "pi_left 1\n",
      "pi_right 3\n",
      "left 1\n",
      "right 0\n",
      "left 2\n",
      "right 3\n",
      "pi_left 2\n",
      "pi_right 3\n",
      "left 2\n",
      "right 2\n",
      "left 4\n",
      "right 3\n",
      "[1, 28, 32, 900]\n"
     ]
    }
   ],
   "source": [
    "def partition(array, left = 0, right = len(array) - 1):\n",
    "    print('pi_left ' + str(left))\n",
    "    print('pi_right ' + str(right))\n",
    "    pivot = array[right]\n",
    "    i = left - 1\n",
    "    for j in range(left, right):\n",
    "        if array[j] <= pivot:\n",
    "            i = i + 1\n",
    "            (array[i], array[j]) = (array[j], array[i])\n",
    "    (array[i + 1], array[right]) = (array[right], array[i + 1])\n",
    "    return i + 1\n",
    "\n",
    "def quicksort(array, left = 0, right = len(array) - 1):\n",
    "    print('left ' + str(left))\n",
    "    print('right ' + str(right))\n",
    "    if left < right:\n",
    "        partition_index = partition(array, left, right)\n",
    "        quicksort(array, left, partition_index - 1)\n",
    "        quicksort(array, partition_index + 1, right)\n",
    "\n",
    "\n",
    "\n",
    "array = [28, 900, 32, 1]\n",
    "length = len(array)\n",
    "quicksort(array)\n",
    "print(array)\n",
    "\n",
    "\n",
    "\n"
   ]
  },
  {
   "cell_type": "code",
   "execution_count": 12,
   "metadata": {},
   "outputs": [
    {
     "name": "stdout",
     "output_type": "stream",
     "text": [
      "[92226, 10098, 17189, 73184, 10274]\n"
     ]
    }
   ],
   "source": [
    "import random\n",
    "array = [random.randint(100, 100_000) for a in range(5)]\n",
    "print(array)"
   ]
  },
  {
   "cell_type": "code",
   "execution_count": 9,
   "metadata": {},
   "outputs": [
    {
     "name": "stdout",
     "output_type": "stream",
     "text": [
      "[10, 7, 8, 9]\n",
      "[10, 8, 7, 9]\n"
     ]
    }
   ],
   "source": [
    "array = [10, 7, 8, 9]\n",
    "print(array)\n",
    "a = array[1]\n",
    "b = array[2]\n",
    "array[1] = b\n",
    "array[2] = a\n",
    "print(array)"
   ]
  },
  {
   "cell_type": "code",
   "execution_count": 5,
   "metadata": {},
   "outputs": [
    {
     "name": "stdout",
     "output_type": "stream",
     "text": [
      "[10, 7, 8, 9]\n",
      "[10, 8, 7, 9]\n"
     ]
    }
   ],
   "source": [
    "array = [10, 7, 8, 9]\n",
    "print(array)\n",
    "(array[1], array[2]) = (array[2], array[1])\n",
    "print(array)"
   ]
  },
  {
   "cell_type": "code",
   "execution_count": null,
   "metadata": {},
   "outputs": [],
   "source": []
  },
  {
   "cell_type": "code",
   "execution_count": 6,
   "metadata": {},
   "outputs": [
    {
     "name": "stdout",
     "output_type": "stream",
     "text": [
      "[10, 7, 8, 9, 1, 5]\n",
      "[10, 8, 8, 9, 1, 5]\n"
     ]
    }
   ],
   "source": [
    "array = [10, 7, 8, 9, 1, 5]\n",
    "print(array)\n",
    "(array[1]) = (array[2])\n",
    "print(array)"
   ]
  },
  {
   "cell_type": "code",
   "execution_count": 17,
   "metadata": {},
   "outputs": [
    {
     "ename": "RecursionError",
     "evalue": "maximum recursion depth exceeded in comparison",
     "output_type": "error",
     "traceback": [
      "\u001b[0;31m---------------------------------------------------------------------------\u001b[0m",
      "\u001b[0;31mRecursionError\u001b[0m                            Traceback (most recent call last)",
      "Cell \u001b[0;32mIn[17], line 20\u001b[0m\n\u001b[1;32m     18\u001b[0m arr \u001b[38;5;241m=\u001b[39m [\u001b[38;5;241m10\u001b[39m, \u001b[38;5;241m7\u001b[39m, \u001b[38;5;241m8\u001b[39m, \u001b[38;5;241m9\u001b[39m, \u001b[38;5;241m1\u001b[39m, \u001b[38;5;241m5\u001b[39m]\n\u001b[1;32m     19\u001b[0m N \u001b[38;5;241m=\u001b[39m \u001b[38;5;28mlen\u001b[39m(arr)\n\u001b[0;32m---> 20\u001b[0m \u001b[43mquicksort\u001b[49m\u001b[43m(\u001b[49m\u001b[43marr\u001b[49m\u001b[43m,\u001b[49m\u001b[43m \u001b[49m\u001b[38;5;241;43m0\u001b[39;49m\u001b[43m,\u001b[49m\u001b[43m \u001b[49m\u001b[43mN\u001b[49m\u001b[43m \u001b[49m\u001b[38;5;241;43m-\u001b[39;49m\u001b[43m \u001b[49m\u001b[38;5;241;43m1\u001b[39;49m\u001b[43m)\u001b[49m\n\u001b[1;32m     21\u001b[0m \u001b[38;5;28mprint\u001b[39m(arr)\n",
      "Cell \u001b[0;32mIn[17], line 14\u001b[0m, in \u001b[0;36mquicksort\u001b[0;34m(arr, left, right)\u001b[0m\n\u001b[1;32m     12\u001b[0m partition_index \u001b[38;5;241m=\u001b[39m i\n\u001b[1;32m     13\u001b[0m quicksort(arr, left, partition_index \u001b[38;5;241m-\u001b[39m \u001b[38;5;241m1\u001b[39m)\n\u001b[0;32m---> 14\u001b[0m \u001b[43mquicksort\u001b[49m\u001b[43m(\u001b[49m\u001b[43marr\u001b[49m\u001b[43m,\u001b[49m\u001b[43m \u001b[49m\u001b[43mpartition_index\u001b[49m\u001b[43m \u001b[49m\u001b[38;5;241;43m+\u001b[39;49m\u001b[43m \u001b[49m\u001b[38;5;241;43m1\u001b[39;49m\u001b[43m,\u001b[49m\u001b[43m \u001b[49m\u001b[43mright\u001b[49m\u001b[43m)\u001b[49m\n",
      "Cell \u001b[0;32mIn[17], line 14\u001b[0m, in \u001b[0;36mquicksort\u001b[0;34m(arr, left, right)\u001b[0m\n\u001b[1;32m     12\u001b[0m partition_index \u001b[38;5;241m=\u001b[39m i\n\u001b[1;32m     13\u001b[0m quicksort(arr, left, partition_index \u001b[38;5;241m-\u001b[39m \u001b[38;5;241m1\u001b[39m)\n\u001b[0;32m---> 14\u001b[0m \u001b[43mquicksort\u001b[49m\u001b[43m(\u001b[49m\u001b[43marr\u001b[49m\u001b[43m,\u001b[49m\u001b[43m \u001b[49m\u001b[43mpartition_index\u001b[49m\u001b[43m \u001b[49m\u001b[38;5;241;43m+\u001b[39;49m\u001b[43m \u001b[49m\u001b[38;5;241;43m1\u001b[39;49m\u001b[43m,\u001b[49m\u001b[43m \u001b[49m\u001b[43mright\u001b[49m\u001b[43m)\u001b[49m\n",
      "    \u001b[0;31m[... skipping similar frames: quicksort at line 14 (2967 times)]\u001b[0m\n",
      "Cell \u001b[0;32mIn[17], line 14\u001b[0m, in \u001b[0;36mquicksort\u001b[0;34m(arr, left, right)\u001b[0m\n\u001b[1;32m     12\u001b[0m partition_index \u001b[38;5;241m=\u001b[39m i\n\u001b[1;32m     13\u001b[0m quicksort(arr, left, partition_index \u001b[38;5;241m-\u001b[39m \u001b[38;5;241m1\u001b[39m)\n\u001b[0;32m---> 14\u001b[0m \u001b[43mquicksort\u001b[49m\u001b[43m(\u001b[49m\u001b[43marr\u001b[49m\u001b[43m,\u001b[49m\u001b[43m \u001b[49m\u001b[43mpartition_index\u001b[49m\u001b[43m \u001b[49m\u001b[38;5;241;43m+\u001b[39;49m\u001b[43m \u001b[49m\u001b[38;5;241;43m1\u001b[39;49m\u001b[43m,\u001b[49m\u001b[43m \u001b[49m\u001b[43mright\u001b[49m\u001b[43m)\u001b[49m\n",
      "Cell \u001b[0;32mIn[17], line 13\u001b[0m, in \u001b[0;36mquicksort\u001b[0;34m(arr, left, right)\u001b[0m\n\u001b[1;32m     11\u001b[0m \u001b[38;5;28;01mif\u001b[39;00m left \u001b[38;5;241m<\u001b[39m right:\n\u001b[1;32m     12\u001b[0m     partition_index \u001b[38;5;241m=\u001b[39m i\n\u001b[0;32m---> 13\u001b[0m     \u001b[43mquicksort\u001b[49m\u001b[43m(\u001b[49m\u001b[43marr\u001b[49m\u001b[43m,\u001b[49m\u001b[43m \u001b[49m\u001b[43mleft\u001b[49m\u001b[43m,\u001b[49m\u001b[43m \u001b[49m\u001b[43mpartition_index\u001b[49m\u001b[43m \u001b[49m\u001b[38;5;241;43m-\u001b[39;49m\u001b[43m \u001b[49m\u001b[38;5;241;43m1\u001b[39;49m\u001b[43m)\u001b[49m\n\u001b[1;32m     14\u001b[0m     quicksort(arr, partition_index \u001b[38;5;241m+\u001b[39m \u001b[38;5;241m1\u001b[39m, right)\n",
      "Cell \u001b[0;32mIn[17], line 4\u001b[0m, in \u001b[0;36mquicksort\u001b[0;34m(arr, left, right)\u001b[0m\n\u001b[1;32m      2\u001b[0m pivot \u001b[38;5;241m=\u001b[39m arr[right]\n\u001b[1;32m      3\u001b[0m i \u001b[38;5;241m=\u001b[39m left \u001b[38;5;241m-\u001b[39m \u001b[38;5;241m1\u001b[39m\n\u001b[0;32m----> 4\u001b[0m \u001b[38;5;28;01mfor\u001b[39;00m j \u001b[38;5;129;01min\u001b[39;00m \u001b[38;5;28;43mrange\u001b[39;49m\u001b[43m(\u001b[49m\u001b[43mleft\u001b[49m\u001b[43m,\u001b[49m\u001b[43m \u001b[49m\u001b[43mright\u001b[49m\u001b[43m)\u001b[49m:\n\u001b[1;32m      5\u001b[0m     \u001b[38;5;28;01mif\u001b[39;00m arr[j] \u001b[38;5;241m<\u001b[39m\u001b[38;5;241m=\u001b[39m pivot:\n\u001b[1;32m      6\u001b[0m         i \u001b[38;5;241m=\u001b[39m i \u001b[38;5;241m+\u001b[39m \u001b[38;5;241m1\u001b[39m\n",
      "\u001b[0;31mRecursionError\u001b[0m: maximum recursion depth exceeded in comparison"
     ]
    }
   ],
   "source": [
    "def quicksort(arr, left, right):\n",
    "    pivot = arr[right]\n",
    "    i = left - 1\n",
    "    for j in range(left, right):\n",
    "        if arr[j] <= pivot:\n",
    "            i = i + 1\n",
    "            (arr[i], arr[j]) = (arr[j], arr[i])\n",
    "    (arr[i + 1], arr[right]) = (arr[right], arr[i + 1])\n",
    "    i + 1\n",
    "\n",
    "    if left < right:\n",
    "        partition_index = i\n",
    "        quicksort(arr, left, partition_index - 1)\n",
    "        quicksort(arr, partition_index + 1, right)\n",
    "\n",
    "\n",
    "\n",
    "arr = [10, 7, 8, 9, 1, 5]\n",
    "N = len(arr)\n",
    "quicksort(arr, 0, N - 1)\n",
    "print(arr)\n"
   ]
  },
  {
   "cell_type": "code",
   "execution_count": 1,
   "metadata": {},
   "outputs": [
    {
     "ename": "NameError",
     "evalue": "name 'name2' is not defined",
     "output_type": "error",
     "traceback": [
      "\u001b[0;31m---------------------------------------------------------------------------\u001b[0m",
      "\u001b[0;31mNameError\u001b[0m                                 Traceback (most recent call last)",
      "Cell \u001b[0;32mIn[1], line 6\u001b[0m\n\u001b[1;32m      2\u001b[0m     name2 \u001b[38;5;241m=\u001b[39m \u001b[38;5;124m'\u001b[39m\u001b[38;5;124mקפלן\u001b[39m\u001b[38;5;124m'\u001b[39m\n\u001b[1;32m      5\u001b[0m get_name()\n\u001b[0;32m----> 6\u001b[0m \u001b[38;5;28mprint\u001b[39m(\u001b[43mname2\u001b[49m)\n",
      "\u001b[0;31mNameError\u001b[0m: name 'name2' is not defined"
     ]
    }
   ],
   "source": [
    "\n",
    "def get_name():\n",
    "    name2 = 'קפלן'\n",
    "    \n",
    "\n",
    "get_name()\n",
    "print(name2)"
   ]
  },
  {
   "cell_type": "code",
   "execution_count": 7,
   "metadata": {},
   "outputs": [
    {
     "ename": "NameError",
     "evalue": "name 'quicksort' is not defined",
     "output_type": "error",
     "traceback": [
      "\u001b[0;31m---------------------------------------------------------------------------\u001b[0m",
      "\u001b[0;31mNameError\u001b[0m                                 Traceback (most recent call last)",
      "Cell \u001b[0;32mIn[7], line 22\u001b[0m\n\u001b[1;32m     20\u001b[0m array \u001b[38;5;241m=\u001b[39m [\u001b[38;5;241m28\u001b[39m, \u001b[38;5;241m900\u001b[39m, \u001b[38;5;241m32\u001b[39m, \u001b[38;5;241m1\u001b[39m]\n\u001b[1;32m     21\u001b[0m length \u001b[38;5;241m=\u001b[39m \u001b[38;5;28mlen\u001b[39m(array)\n\u001b[0;32m---> 22\u001b[0m qsort(\u001b[43mquicksort\u001b[49m)(array, \u001b[38;5;241m0\u001b[39m, length \u001b[38;5;241m-\u001b[39m \u001b[38;5;241m1\u001b[39m)\n\u001b[1;32m     23\u001b[0m \u001b[38;5;28mprint\u001b[39m(array)\n",
      "\u001b[0;31mNameError\u001b[0m: name 'quicksort' is not defined"
     ]
    }
   ],
   "source": [
    "def qsort(array, left, right):\n",
    "    def partition(array, left, right):\n",
    "        pivot = array[right]\n",
    "        i = left - 1\n",
    "        for j in range(left, right):\n",
    "            if array[j] <= pivot:\n",
    "                i = i + 1\n",
    "                (array[i], array[j]) = (array[j], array[i])\n",
    "        (array[i + 1], array[right]) = (array[right], array[i + 1])\n",
    "        return i + 1\n",
    "\n",
    "    def quicksort(array, left, right):\n",
    "        if left < right:\n",
    "            partition_index = partition(array, left, right)\n",
    "            quicksort(array, left, partition_index - 1)\n",
    "            quicksort(array, partition_index + 1, right)\n",
    "\n",
    "\n",
    "\n",
    "array = [28, 900, 32, 1]\n",
    "length = len(array)\n",
    "qsort(quicksort)(array, 0, length - 1)\n",
    "print(array)\n",
    "\n",
    "\n",
    "\n"
   ]
  },
  {
   "cell_type": "code",
   "execution_count": 1,
   "metadata": {},
   "outputs": [
    {
     "ename": "NameError",
     "evalue": "name 'arr' is not defined",
     "output_type": "error",
     "traceback": [
      "\u001b[0;31m---------------------------------------------------------------------------\u001b[0m",
      "\u001b[0;31mNameError\u001b[0m                                 Traceback (most recent call last)",
      "Cell \u001b[0;32mIn[1], line 37\u001b[0m\n\u001b[1;32m     33\u001b[0m         quicksort(arr, partition_index \u001b[38;5;241m+\u001b[39m \u001b[38;5;241m1\u001b[39m, right)\n\u001b[1;32m     34\u001b[0m     \u001b[38;5;28;01mreturn\u001b[39;00m arr\n\u001b[0;32m---> 37\u001b[0m test_sorting_algorithm(quicksort(\u001b[43marr\u001b[49m, \u001b[38;5;241m0\u001b[39m, length))\n",
      "\u001b[0;31mNameError\u001b[0m: name 'arr' is not defined"
     ]
    }
   ],
   "source": [
    "import time\n",
    "import random\n",
    "import matplotlib.pyplot as plt\n",
    "\n",
    "#  Test function to verify sorting algorithms\n",
    "def test_sorting_algorithm(sort_func, n=10):\n",
    "    # Perform n random test cases\n",
    "    for _ in range(n):\n",
    "        global length\n",
    "        length = random.randint(10, 100)\n",
    "        global arr\n",
    "        arr = [random.randint(100, 100_000) for _ in range(length)]\n",
    "        expected = sorted(arr)\n",
    "        # Verify that the sorted array matches the expected result\n",
    "        assert sort_func(arr) == expected\n",
    "\n",
    "    print(\"All test cases passed\")\n",
    "\n",
    "def partition(arr, left, right):\n",
    "    pivot = arr[right]\n",
    "    i = left - 1\n",
    "    for j in range(left, right):\n",
    "        if arr[j] <= pivot:\n",
    "            i = i + 1\n",
    "            (arr[i], arr[j]) = (arr[j], arr[i])\n",
    "    (arr[i + 1], arr[right]) = (arr[right], arr[i + 1])\n",
    "    return i + 1\n",
    "\n",
    "def quicksort(arr, left, right):\n",
    "    if left < right:\n",
    "        partition_index = partition(arr, left, right)\n",
    "        quicksort(arr, left, partition_index - 1)\n",
    "        quicksort(arr, partition_index + 1, right)\n",
    "    return arr\n",
    "\n",
    "\n",
    "test_sorting_algorithm(quicksort(arr, 0, length))"
   ]
  },
  {
   "cell_type": "code",
   "execution_count": 1,
   "metadata": {},
   "outputs": [
    {
     "name": "stdout",
     "output_type": "stream",
     "text": [
      "[17, 20, 26, 31, 44, 54, 55, 77, 93]\n"
     ]
    }
   ],
   "source": [
    "def mergeSort(arr):\n",
    "    #print(\"Splitting \",arr)\n",
    "    if len(arr)>1:\n",
    "        mid = len(arr)//2\n",
    "        lefthalf = arr[:mid]\n",
    "        righthalf = arr[mid:]\n",
    "\n",
    "        mergeSort(lefthalf)\n",
    "        mergeSort(righthalf)\n",
    "\n",
    "        i=0\n",
    "        j=0\n",
    "        k=0\n",
    "        while i < len(lefthalf) and j < len(righthalf):\n",
    "            if lefthalf[i] <= righthalf[j]:\n",
    "                arr[k]=lefthalf[i]\n",
    "                i=i+1\n",
    "            else:\n",
    "                arr[k]=righthalf[j]\n",
    "                j=j+1\n",
    "            k=k+1\n",
    "\n",
    "        while i < len(lefthalf):\n",
    "            arr[k]=lefthalf[i]\n",
    "            i=i+1\n",
    "            k=k+1\n",
    "\n",
    "        while j < len(righthalf):\n",
    "            arr[k]=righthalf[j]\n",
    "            j=j+1\n",
    "            k=k+1\n",
    "    #print(\"Merging \",arr)\n",
    "\n",
    "arr = [54,26,93,17,77,31,44,55,20]\n",
    "mergeSort(arr)\n",
    "print(arr)"
   ]
  }
 ],
 "metadata": {
  "kernelspec": {
   "display_name": "Python 3",
   "language": "python",
   "name": "python3"
  },
  "language_info": {
   "codemirror_mode": {
    "name": "ipython",
    "version": 3
   },
   "file_extension": ".py",
   "mimetype": "text/x-python",
   "name": "python",
   "nbconvert_exporter": "python",
   "pygments_lexer": "ipython3",
   "version": "3.9.6"
  }
 },
 "nbformat": 4,
 "nbformat_minor": 2
}
