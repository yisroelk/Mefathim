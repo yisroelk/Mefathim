{
 "cells": [
  {
   "cell_type": "code",
   "execution_count": 27,
   "metadata": {},
   "outputs": [
    {
     "name": "stdout",
     "output_type": "stream",
     "text": [
      "Minimum number of trials in worst case with 2 eggs and 5 floors is (3, [[0, 0, 0, 0, 0, 0], [0, 1, 2, 3, 4, 5], [0, 1, 2, 2, 3, 3]])\n"
     ]
    }
   ],
   "source": [
    "import numpy as np\n",
    "\n",
    "# Python3 program for the above approach\n",
    "INT_MAX = 32767\n",
    "\n",
    "# Function to get minimum number of trials needed in worst\n",
    "# case with n eggs and k floors\n",
    "\n",
    "\n",
    "def eggDrop(n, k):\n",
    "\t# A 2D table where entry eggFloor[i][j] will represent minimum\n",
    "\t# number of trials needed for i eggs and j floors.\n",
    "\teggFloor = [[0 for x in range(k + 1)] for x in range(n + 1)]\n",
    "\n",
    "\t# We need one trial for one floor and0 trials for 0 floors\n",
    "\tfor i in range(1, n + 1):\n",
    "\t\teggFloor[i][1] = 1\n",
    "\t\teggFloor[i][0] = 0\n",
    "\n",
    "\t# We always need j trials for one egg and j floors.\n",
    "\tfor j in range(1, k + 1):\n",
    "\t\teggFloor[1][j] = j\n",
    "\n",
    "\t# Fill rest of the entries in table using optimal substructure\n",
    "\t# property\n",
    "\tfor i in range(2, n + 1):\n",
    "\t\tfor j in range(2, k + 1):\n",
    "\t\t\teggFloor[i][j] = INT_MAX\n",
    "\t\t\tfor x in range(1, j + 1):\n",
    "\t\t\t\tres = 1 + max(eggFloor[i-1][x-1], eggFloor[i][j-x])\n",
    "\t\t\t\tif res < eggFloor[i][j]:\n",
    "\t\t\t\t\teggFloor[i][j] = res\n",
    "\t# eggFloor[n][k] holds the result\n",
    "\treturn eggFloor[n][k], eggFloor\n",
    "\n",
    "\n",
    "# Driver code\n",
    "if __name__ == \"__main__\":\n",
    "\tn = 2\n",
    "\tk = 5\n",
    "\tprint(\"Minimum number of trials in worst case with \" + str(n) + \" eggs and \"\n",
    "\t\t\t+ str(k) + \" floors is \" + str(eggDrop(n, k)))\n",
    "\n",
    "# This code is contributed by Bhavya Jain\n"
   ]
  },
  {
   "cell_type": "code",
   "execution_count": 28,
   "metadata": {},
   "outputs": [
    {
     "name": "stdout",
     "output_type": "stream",
     "text": [
      "0  0  0  0  0  0  \n",
      "\n",
      "0  1  2  3  4  5  \n",
      "\n",
      "0  1  2  2  3  3  \n",
      "\n"
     ]
    }
   ],
   "source": [
    "a,b = eggDrop(2,5)\n",
    "class Matrix:\n",
    "    def __init__(self, rows):\n",
    "        self.rows = rows\n",
    "\n",
    "    def read(self):\n",
    "        for element in self.rows:\n",
    "            for i in element:\n",
    "                print(i, end=\"  \")\n",
    "            print('\\n')\n",
    "\n",
    "\n",
    "m = Matrix(b)\n",
    "\n",
    "m.read()"
   ]
  }
 ],
 "metadata": {
  "kernelspec": {
   "display_name": "Python 3",
   "language": "python",
   "name": "python3"
  },
  "language_info": {
   "codemirror_mode": {
    "name": "ipython",
    "version": 3
   },
   "file_extension": ".py",
   "mimetype": "text/x-python",
   "name": "python",
   "nbconvert_exporter": "python",
   "pygments_lexer": "ipython3",
   "version": "3.9.6"
  }
 },
 "nbformat": 4,
 "nbformat_minor": 2
}
