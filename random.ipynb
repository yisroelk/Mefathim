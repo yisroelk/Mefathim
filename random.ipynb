{
 "cells": [
  {
   "cell_type": "code",
   "execution_count": 67,
   "metadata": {},
   "outputs": [
    {
     "name": "stdout",
     "output_type": "stream",
     "text": [
      "1 08:47\n",
      "2 08:46\n",
      "3 08:47\n",
      "4 08:47\n",
      "5 08:41\n",
      "6 08:41\n",
      "7 08:58\n",
      "8 08:57\n",
      "9 08:39\n",
      "10 08:41\n",
      "11 08:58\n",
      "12 08:41\n",
      "13 08:54\n",
      "14 08:47\n",
      "15 08:53\n",
      "16 08:58\n",
      "17 08:52\n",
      "18 08:45\n",
      "19 08:49\n",
      "20 08:52\n",
      "21 08:43\n",
      "22 08:45\n",
      "23 08:53\n",
      "24 08:58\n",
      "25 08:41\n",
      "26 08:58\n",
      "27 08:59\n",
      "28 08:47\n",
      "29 08:42\n",
      "30 08:50\n"
     ]
    }
   ],
   "source": [
    "import random\n",
    "counter = 0\n",
    "for i in range(30):\n",
    "    print(str(i+1)+\" 08:\"+str(random.randint(39,59)))"
   ]
  }
 ],
 "metadata": {
  "kernelspec": {
   "display_name": "Python 3",
   "language": "python",
   "name": "python3"
  },
  "language_info": {
   "codemirror_mode": {
    "name": "ipython",
    "version": 3
   },
   "file_extension": ".py",
   "mimetype": "text/x-python",
   "name": "python",
   "nbconvert_exporter": "python",
   "pygments_lexer": "ipython3",
   "version": "3.9.6"
  }
 },
 "nbformat": 4,
 "nbformat_minor": 2
}
