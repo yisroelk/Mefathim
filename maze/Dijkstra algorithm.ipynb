{
 "cells": [
  {
   "cell_type": "code",
   "execution_count": null,
   "id": "2ae7974f",
   "metadata": {},
   "outputs": [],
   "source": [
    "import cv2\n",
    "import matplotlib.pyplot as plt\n",
    "import numpy as np\n",
    "import heapq as heap\n"
   ]
  },
  {
   "cell_type": "code",
   "execution_count": null,
   "id": "e64f0977",
   "metadata": {},
   "outputs": [],
   "source": [
    "file = '/home/mefathim-tech-25/Downloads/maze.png'\n",
    "# file = '/home/mefathim-tech-25/Downloads/maze5.jpg'"
   ]
  },
  {
   "cell_type": "code",
   "execution_count": null,
   "id": "34f19a8f",
   "metadata": {},
   "outputs": [],
   "source": [
    "\n",
    "img = cv2.imread(file) # read an image from a file using\n",
    "cv2.circle(img,(5,220), 3, (255,0,0), -1) # add a circle at (5, 220)\n",
    "cv2.circle(img, (25,5), 3, (0,0,255), -1) # add a circle at (5,5)\n",
    "plt.figure(figsize=(7,7))\n",
    "plt.imshow(img) # show the image\n",
    "img = cv2.imread(file)\n",
    "plt.show()"
   ]
  },
  {
   "cell_type": "code",
   "execution_count": null,
   "id": "2a49bb1a",
   "metadata": {},
   "outputs": [],
   "source": [
    "img.shape"
   ]
  },
  {
   "cell_type": "code",
   "execution_count": null,
   "id": "9873b548",
   "metadata": {},
   "outputs": [],
   "source": [
    "# Your Code Should Be Here\n",
    "\n",
    "\n",
    "\n",
    "\n",
    "path = ..."
   ]
  },
  {
   "cell_type": "code",
   "execution_count": null,
   "id": "6e708ac4",
   "metadata": {},
   "outputs": [],
   "source": [
    "def drawPath(img,path, thickness=1):\n",
    "    '''path is a list of (x,y) tuples'''\n",
    "    x0,y0=path[0]\n",
    "    for vertex in path[1:]:\n",
    "        x1,y1=vertex\n",
    "        cv2.line(img,(y0,x0),(y1,x1),(255,0,0),thickness)\n",
    "        x0,y0=vertex"
   ]
  },
  {
   "cell_type": "code",
   "execution_count": null,
   "id": "4e83f41f",
   "metadata": {},
   "outputs": [],
   "source": [
    "drawPath(img,path)\n",
    "plt.figure(figsize=(7,7))\n",
    "plt.imshow(img) # show the image on the screen \n",
    "plt.show()"
   ]
  },
  {
   "cell_type": "code",
   "execution_count": null,
   "id": "784754c3",
   "metadata": {},
   "outputs": [],
   "source": []
  }
 ],
 "metadata": {
  "kernelspec": {
   "display_name": "Python 3 (ipykernel)",
   "language": "python",
   "name": "python3"
  },
  "language_info": {
   "codemirror_mode": {
    "name": "ipython",
    "version": 3
   },
   "file_extension": ".py",
   "mimetype": "text/x-python",
   "name": "python",
   "nbconvert_exporter": "python",
   "pygments_lexer": "ipython3",
   "version": "3.10.6"
  }
 },
 "nbformat": 4,
 "nbformat_minor": 5
}
