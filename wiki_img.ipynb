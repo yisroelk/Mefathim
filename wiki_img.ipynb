{
 "cells": [
  {
   "cell_type": "code",
   "execution_count": 4,
   "metadata": {},
   "outputs": [
    {
     "ename": "IndentationError",
     "evalue": "expected an indented block (1276312935.py, line 21)",
     "output_type": "error",
     "traceback": [
      "\u001b[0;36m  Cell \u001b[0;32mIn[4], line 21\u001b[0;36m\u001b[0m\n\u001b[0;31m    img_links = set()\u001b[0m\n\u001b[0m    ^\u001b[0m\n\u001b[0;31mIndentationError\u001b[0m\u001b[0;31m:\u001b[0m expected an indented block\n"
     ]
    }
   ],
   "source": [
    "import requests\n",
    "from bs4 import BeautifulSoup\n",
    "import random\n",
    "import os\n",
    "\n",
    "url = 'https://en.wikipedia.org/wiki/Python_(programming_language)'\n",
    "\n",
    "reqs = requests.get(url)\n",
    "soup = BeautifulSoup(reqs.text)\n",
    "\n",
    "def get_random_urls(url, d, w):\n",
    "    urls = set()\n",
    "    for link in soup.find_all('a', href = True):\n",
    "        link = link.get('href')\n",
    "        if link.startswith ('/wiki') and ':' not in link:\n",
    "            urls.add(link)\n",
    "\n",
    "    random_links = random.sample(list(urls), w)\n",
    "\n",
    "def get_random_img():\n",
    "img_links = set()\n",
    "for link2 in soup.find_all('img', src = True):\n",
    "    link2 = link2.get('src')\n",
    "    if link2.startswith ('//upload.wikimedia.org'):\n",
    "        img_links.add(link2)\n",
    "\n",
    "print(random.sample(list(img_links), 1))\n",
    "#print(list(img_links))\n",
    "\n",
    "with open('/Users/yisroel/Desktop/mefathim/00000002.png','wb') as f:\n",
    "    f.write(requests.get('http://upload.wikimedia.org/wikipedia/commons/thumb/6/6f/Octicons-terminal.svg/24px-Octicons-terminal.svg.png').content)"
   ]
  },
  {
   "cell_type": "code",
   "execution_count": 7,
   "metadata": {},
   "outputs": [
    {
     "ename": "ModuleNotFoundError",
     "evalue": "No module named 'OpenSSL'",
     "output_type": "error",
     "traceback": [
      "\u001b[0;31m---------------------------------------------------------------------------\u001b[0m",
      "\u001b[0;31mModuleNotFoundError\u001b[0m                       Traceback (most recent call last)",
      "Cell \u001b[0;32mIn[7], line 1\u001b[0m\n\u001b[0;32m----> 1\u001b[0m \u001b[38;5;28;01mfrom\u001b[39;00m \u001b[38;5;21;01mrequests\u001b[39;00m\u001b[38;5;21;01m.\u001b[39;00m\u001b[38;5;21;01mpackages\u001b[39;00m\u001b[38;5;21;01m.\u001b[39;00m\u001b[38;5;21;01murllib3\u001b[39;00m\u001b[38;5;21;01m.\u001b[39;00m\u001b[38;5;21;01mcontrib\u001b[39;00m \u001b[38;5;28;01mimport\u001b[39;00m pyopenssl \u001b[38;5;28;01mas\u001b[39;00m reqs\n\u001b[1;32m      4\u001b[0m \u001b[38;5;28;01mdef\u001b[39;00m \u001b[38;5;21mhttps_cert_subject_alt_names\u001b[39m(host, port):\n\u001b[1;32m      5\u001b[0m \u001b[38;5;250m    \u001b[39m\u001b[38;5;124;03m\"\"\"Read subject domains in https cert from remote server\"\"\"\u001b[39;00m\n",
      "File \u001b[0;32m~/Library/Python/3.9/lib/python/site-packages/urllib3/contrib/pyopenssl.py:43\u001b[0m\n\u001b[1;32m      1\u001b[0m \u001b[38;5;124;03m\"\"\"\u001b[39;00m\n\u001b[1;32m      2\u001b[0m \u001b[38;5;124;03mModule for using pyOpenSSL as a TLS backend. This module was relevant before\u001b[39;00m\n\u001b[1;32m      3\u001b[0m \u001b[38;5;124;03mthe standard library ``ssl`` module supported SNI, but now that we've dropped\u001b[39;00m\n\u001b[0;32m   (...)\u001b[0m\n\u001b[1;32m     38\u001b[0m \u001b[38;5;124;03m.. _idna: https://github.com/kjd/idna\u001b[39;00m\n\u001b[1;32m     39\u001b[0m \u001b[38;5;124;03m\"\"\"\u001b[39;00m\n\u001b[1;32m     41\u001b[0m \u001b[38;5;28;01mfrom\u001b[39;00m \u001b[38;5;21;01m__future__\u001b[39;00m \u001b[38;5;28;01mimport\u001b[39;00m annotations\n\u001b[0;32m---> 43\u001b[0m \u001b[38;5;28;01mimport\u001b[39;00m \u001b[38;5;21;01mOpenSSL\u001b[39;00m\u001b[38;5;21;01m.\u001b[39;00m\u001b[38;5;21;01mSSL\u001b[39;00m  \u001b[38;5;66;03m# type: ignore[import-untyped]\u001b[39;00m\n\u001b[1;32m     44\u001b[0m \u001b[38;5;28;01mfrom\u001b[39;00m \u001b[38;5;21;01mcryptography\u001b[39;00m \u001b[38;5;28;01mimport\u001b[39;00m x509\n\u001b[1;32m     46\u001b[0m \u001b[38;5;28;01mtry\u001b[39;00m:\n",
      "\u001b[0;31mModuleNotFoundError\u001b[0m: No module named 'OpenSSL'"
     ]
    }
   ],
   "source": [
    "from requests.packages.urllib3.contrib import pyopenssl as reqs\n",
    "\n",
    "\n",
    "def https_cert_subject_alt_names(host, port):\n",
    "    \"\"\"Read subject domains in https cert from remote server\"\"\"\n",
    "\n",
    "    x509 = reqs.OpenSSL.crypto.load_certificate(\n",
    "        reqs.OpenSSL.crypto.FILETYPE_PEM,\n",
    "        reqs.ssl.get_server_certificate((host, port))\n",
    "    )\n",
    "    return reqs.get_subj_alt_name(x509)\n",
    "\n",
    "if __name__ == '__main__':\n",
    "    domains = https_cert_subject_alt_names(\"www.yahoo.com\", 443)\n",
    "    print(domains)"
   ]
  }
 ],
 "metadata": {
  "kernelspec": {
   "display_name": "Python 3",
   "language": "python",
   "name": "python3"
  },
  "language_info": {
   "codemirror_mode": {
    "name": "ipython",
    "version": 3
   },
   "file_extension": ".py",
   "mimetype": "text/x-python",
   "name": "python",
   "nbconvert_exporter": "python",
   "pygments_lexer": "ipython3",
   "version": "3.9.6"
  }
 },
 "nbformat": 4,
 "nbformat_minor": 2
}
